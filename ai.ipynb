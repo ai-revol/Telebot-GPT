{
 "cells": [
  {
   "cell_type": "markdown",
   "metadata": {},
   "source": [
    "## Caesar cypher"
   ]
  },
  {
   "cell_type": "code",
   "execution_count": null,
   "metadata": {},
   "outputs": [],
   "source": [
    "def encrypt(text, s):\n",
    "    result = \"\"\n",
    "    for i in range(len(text)):\n",
    "        char = text[i]\n",
    "        if char.isupper():\n",
    "            result += chr((ord(char) + s - 65) % 26 + 65)\n",
    "        else:\n",
    "            result += chr((ord(char) + s - 97) % 26 + 97)\n",
    "    return result\n",
    "\n",
    "text=input(\" Enter the text to encrypt \")\n",
    "s = 3\n",
    "print(\"Text : \" + text)\n",
    "str(s)\n",
    "print( \"Cipher: \" + encrypt(text,s))"
   ]
  },
  {
   "cell_type": "markdown",
   "metadata": {},
   "source": [
    "## RailFence cypher"
   ]
  },
  {
   "cell_type": "code",
   "execution_count": null,
   "metadata": {},
   "outputs": [],
   "source": [
    "string = input(\"Enter a string: \")\n",
    "\n",
    "def RailFence(txt):\n",
    "    result = \"\"\n",
    "    for i in range(len(txt)):\n",
    "        if i % 2 == 0:\n",
    "            result += txt[i]\n",
    "    for i in range(len(txt)):\n",
    "        if i % 2 != 0:\n",
    "            result += txt[i]\n",
    "    return result\n",
    "\n",
    "print(RailFence(string))"
   ]
  },
  {
   "cell_type": "markdown",
   "metadata": {},
   "source": [
    "## RSA Algorithm"
   ]
  },
  {
   "cell_type": "code",
   "execution_count": null,
   "metadata": {},
   "outputs": [],
   "source": [
    "from Crypto.PublicKey import RSA\n",
    "from Crypto.Cipher import PKCS1_OAEP\n",
    "import binascii\n",
    "\n",
    "keyPair = RSA.generate(1024)\n",
    "pubKey = keyPair.publickey()\n",
    "\n",
    "print(f\"Public key: (n={hex(pubKey.n)}, e={hex(pubKey.e)})\")\n",
    "pubKeyPEM = pubKey.exportKey()\n",
    "print(pubKeyPEM.decode('ascii'))\n",
    "\n",
    "print(f\"Private key: (n={hex(pubKey.n)}, d={hex(keyPair.d)})\")\n",
    "privKeyPEM = keyPair.exportKey()\n",
    "print(privKeyPEM.decode('ascii'))\n",
    "\n",
    "msg = 'AI academy'.encode('utf-8')\n",
    "encryptor = PKCS1_OAEP.new(pubKey)\n",
    "encrypted = encryptor.encrypt(msg)\n",
    "print(\"Encrypted:\", binascii.hexlify(encrypted))"
   ]
  },
  {
   "cell_type": "markdown",
   "metadata": {},
   "source": [
    "## MD5 Algorithm"
   ]
  },
  {
   "cell_type": "code",
   "execution_count": null,
   "metadata": {},
   "outputs": [],
   "source": [
    "import hashlib\n",
    "result = hashlib.md5(b'AI')\n",
    "result1 = hashlib.md5(b'Academy')\n",
    "# printing the equivalent byte value.\n",
    "print(\"The byte equivalent of hash is : \", end =\"\")\n",
    "print(result.digest())\n",
    "print(\"The byte equivalent of hash is : \", end =\"\")\n",
    "print(result1.digest())"
   ]
  },
  {
   "cell_type": "markdown",
   "metadata": {},
   "source": [
    "## SHA algorithm"
   ]
  },
  {
   "cell_type": "code",
   "execution_count": null,
   "metadata": {},
   "outputs": [],
   "source": [
    "import hashlib\n",
    "str = input(\" Enter the value to encode \")\n",
    "result = hashlib.sha1(str.encode())\n",
    "print(\"The hexadecima equivalent if SHA1 is : \")\n",
    "print(result.hexdigest())"
   ]
  },
  {
   "cell_type": "markdown",
   "metadata": {},
   "source": [
    "## Digital Signature"
   ]
  },
  {
   "cell_type": "code",
   "execution_count": null,
   "metadata": {},
   "outputs": [],
   "source": [
    "from Crypto.Signature import PKCS1_v1_5\n",
    "from Crypto.Hash import SHA256\n",
    "from Crypto.PublicKey import RSA\n",
    "from Crypto import Random\n",
    "\n",
    "def generate_signature(private_key, message):\n",
    "    key = RSA.importKey(private_key)\n",
    "    hashed_message = SHA256.new(message.encode('utf-8'))\n",
    "    signer = PKCS1_v1_5.new(key)\n",
    "    signature = signer.sign(hashed_message)\n",
    "    return signature\n",
    "\n",
    "def verify_signature(public_key, message, signature):\n",
    "    key = RSA.importKey(public_key)\n",
    "    hashed_message = SHA256.new(message.encode('utf-8'))\n",
    "    verifier = PKCS1_v1_5.new(key)\n",
    "    return verifier.verify(hashed_message, signature)\n",
    "\n",
    "random_generator = Random.new().read\n",
    "key_pair = RSA.generate(2048, random_generator)\n",
    "\n",
    "public_key = key_pair.publickey().export_key()\n",
    "private_key = key_pair.export_key()\n",
    "\n",
    "message = \"Hello, World!\"\n",
    "\n",
    "signature = generate_signature(private_key, message)\n",
    "print(\"Generated Signature:\", signature)\n",
    "\n",
    "is_valid = verify_signature(public_key, message, signature)\n",
    "print(\"Signature Verification Result:\", is_valid)"
   ]
  },
  {
   "cell_type": "markdown",
   "metadata": {},
   "source": [
    "## Diffie-Hellman Algorithm"
   ]
  },
  {
   "cell_type": "code",
   "execution_count": null,
   "metadata": {},
   "outputs": [],
   "source": [
    "from random import randint\n",
    "\n",
    "if __name__ == '__main__':\n",
    "    P = 32\n",
    "    G = 12\n",
    "    print('The Value of P is : %d' % P)\n",
    "    print('The Value of G is : %d' % G)\n",
    "    a = 4\n",
    "    print('Secret Number for Alice is : %d' % a)\n",
    "    x = int(pow(G, a, P))\n",
    "    b = 6\n",
    "    print('Secret Number for Bob is : %d' % b)\n",
    "    y = int(pow(G, b, P))\n",
    "    ka = int(pow(y, a, P))\n",
    "    kb = int(pow(x, b, P))\n",
    "\n",
    "    print('Secret key for the Alice is : %d' % ka)\n",
    "    print('Secret Key for the Bob is : %d' % kb)"
   ]
  },
  {
   "cell_type": "code",
   "execution_count": null,
   "metadata": {},
   "outputs": [],
   "source": []
  },
  {
   "cell_type": "code",
   "execution_count": null,
   "metadata": {},
   "outputs": [],
   "source": []
  }
 ],
 "metadata": {
  "kernelspec": {
   "display_name": "def_env",
   "language": "python",
   "name": "python3"
  },
  "language_info": {
   "codemirror_mode": {
    "name": "ipython",
    "version": 3
   },
   "file_extension": ".py",
   "mimetype": "text/x-python",
   "name": "python",
   "nbconvert_exporter": "python",
   "pygments_lexer": "ipython3",
   "version": "3.10.14"
  }
 },
 "nbformat": 4,
 "nbformat_minor": 2
}
